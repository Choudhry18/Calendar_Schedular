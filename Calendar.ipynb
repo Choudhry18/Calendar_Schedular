{
  "nbformat": 4,
  "nbformat_minor": 0,
  "metadata": {
    "colab": {
      "provenance": [],
      "authorship_tag": "ABX9TyOF+9Sgkk6UswatdlRcg7bq",
      "include_colab_link": true
    },
    "kernelspec": {
      "name": "python3",
      "display_name": "Python 3"
    },
    "language_info": {
      "name": "python"
    }
  },
  "cells": [
    {
      "cell_type": "markdown",
      "metadata": {
        "id": "view-in-github",
        "colab_type": "text"
      },
      "source": [
        "<a href=\"https://colab.research.google.com/github/Choudhry18/Calendar_Schedular/blob/main/Calendar.ipynb\" target=\"_parent\"><img src=\"https://colab.research.google.com/assets/colab-badge.svg\" alt=\"Open In Colab\"/></a>"
      ]
    },
    {
      "cell_type": "code",
      "source": [
        "!sudo apt install tesseract-ocr\n",
        "!pip install pyTesseract\n",
        "!pip install icalendar"
      ],
      "metadata": {
        "colab": {
          "base_uri": "https://localhost:8080/"
        },
        "id": "Ekr_0hB2hFui",
        "outputId": "f5d78c5e-746a-4b0c-d358-7ad69d0622d2"
      },
      "execution_count": null,
      "outputs": [
        {
          "output_type": "stream",
          "name": "stdout",
          "text": [
            "Reading package lists... Done\n",
            "Building dependency tree... Done\n",
            "Reading state information... Done\n",
            "tesseract-ocr is already the newest version (4.1.1-2.1build1).\n",
            "0 upgraded, 0 newly installed, 0 to remove and 45 not upgraded.\n",
            "Collecting pyTesseract\n",
            "  Using cached pytesseract-0.3.10-py3-none-any.whl (14 kB)\n",
            "Requirement already satisfied: packaging>=21.3 in /usr/local/lib/python3.10/dist-packages (from pyTesseract) (24.0)\n",
            "Requirement already satisfied: Pillow>=8.0.0 in /usr/local/lib/python3.10/dist-packages (from pyTesseract) (9.4.0)\n",
            "Installing collected packages: pyTesseract\n",
            "Successfully installed pyTesseract-0.3.10\n",
            "Requirement already satisfied: icalendar in /usr/local/lib/python3.10/dist-packages (5.0.12)\n",
            "Requirement already satisfied: python-dateutil in /usr/local/lib/python3.10/dist-packages (from icalendar) (2.8.2)\n",
            "Requirement already satisfied: pytz in /usr/local/lib/python3.10/dist-packages (from icalendar) (2023.4)\n",
            "Requirement already satisfied: six>=1.5 in /usr/local/lib/python3.10/dist-packages (from python-dateutil->icalendar) (1.16.0)\n"
          ]
        }
      ]
    },
    {
      "cell_type": "code",
      "execution_count": null,
      "metadata": {
        "id": "Zz_Na9U0fL-p"
      },
      "outputs": [],
      "source": [
        "import numpy as np\n",
        "from PIL import Image\n",
        "import pytesseract\n",
        "import pytz\n",
        "from icalendar import Calendar, Event\n",
        "from datetime import datetime, time, timedelta\n",
        "import dateutil\n",
        "from dateutil.rrule import rrule, WEEKLY, MONTHLY, MO, TU, WE, TH, FR # For defining recurring rules\n",
        "import re\n"
      ]
    },
    {
      "cell_type": "code",
      "source": [
        "def imgToArray(imgLocation):\n",
        "    img = Image.open(imgLocation)  # \"C:/users/etuba/Desktop/ja.jpg\")\n",
        "    print(img.width, img.height)\n",
        "    img = img.convert(\"L\")\n",
        "    return np.array(img)\n",
        "\n",
        "def showImg(pixels):\n",
        "    img = Image.fromarray(pixels,mode='L')\n",
        "    img.show()\n",
        "\n",
        "def time_to_TDelta(x):\n",
        "  add = 0\n",
        "  if (x[5] == 'P') and ((x[0]+x[1]) != '12'):\n",
        "    add += 12\n",
        "  if x[0] == '0':\n",
        "    if x[3] == '0':\n",
        "      return time(int(x[1])+add,int(x[4]))\n",
        "    else:\n",
        "      return time(int(x[1])+add,int(x[3]+x[4]))\n",
        "  else:\n",
        "    if x[3] == '0':\n",
        "      return time(int(x[0]+x[1])+add,int(x[4]))\n",
        "    else:\n",
        "      return time(int(x[0]+x[1])+add,int(x[3]+x[4]))"
      ],
      "metadata": {
        "id": "K2K7biVEgf8b"
      },
      "execution_count": null,
      "outputs": []
    },
    {
      "cell_type": "code",
      "source": [
        "    pixelsOrg = imgToArray(\"screen.png\")\n",
        "    img = Image.open(\"screen.png\")\n",
        "    #binarized the array\n",
        "    th = 128\n",
        "    pixels = np.copy(pixelsOrg)\n",
        "    for i in range(len(pixels)):\n",
        "        for j in range(pixels.shape[1]):\n",
        "            if pixels[i][j] < th:\n",
        "                pixels[i][j] = 0\n",
        "            else:\n",
        "                pixels[i][j] = 255\n",
        "    count = 0\n",
        "    line_h = []\n",
        "    for i in range(len(pixels)):\n",
        "        count = 0\n",
        "        for j in range(pixels.shape[1]):\n",
        "            if pixels[i][j] == 0:\n",
        "                count+= 1\n",
        "            if count>img.width-100:\n",
        "                line_h.append(i)\n",
        "                count = 0\n",
        "                break\n",
        "    #need to find a pair of y cordinates to calculate x cordinates for the 2 boxes\n",
        "    #just making the line points worth one pixel\n",
        "    count =0\n",
        "    while count<len(line_h)-1:\n",
        "        if line_h[count]+1 == line_h[count+1]:\n",
        "            line_h.remove(line_h[count])\n",
        "        else:\n",
        "            count+=1\n",
        "    first = line_h[0]\n",
        "    second = line_h[1]\n",
        "    line_v = []\n",
        "    #finding the vertical line points\n",
        "    for i in range(img.width):\n",
        "        flag = True\n",
        "        for j in range(first,second):\n",
        "            if pixels[j][i] != 0:\n",
        "                flag = False\n",
        "                break\n",
        "        if flag:\n",
        "            line_v.append(i)\n",
        "\n",
        "    count =0\n",
        "    while count<len(line_v)-1:\n",
        "        if line_v[count]+1 == line_v[count+1]:\n",
        "            line_v.remove(line_v[count])\n",
        "        else:\n",
        "            count+=1\n",
        "\n"
      ],
      "metadata": {
        "id": "Fq7nPhnOfTcF",
        "colab": {
          "base_uri": "https://localhost:8080/"
        },
        "outputId": "e0947dae-cbd2-4c4e-8c4d-af6c15d9a3c2"
      },
      "execution_count": 14,
      "outputs": [
        {
          "output_type": "stream",
          "name": "stdout",
          "text": [
            "1600 94\n"
          ]
        }
      ]
    },
    {
      "cell_type": "code",
      "source": [
        "#getting the list of courses and their description using OCR\n",
        "courses = []\n",
        "for i in range(len(line_h)-1):\n",
        "  courses.append(re.sub(\"\\n\",\" \",pytesseract.image_to_string(pixels[line_h[i]:line_h[i+1], line_v[0]:line_v[1]],config='--psm 6')))\n",
        "descriptions = []\n",
        "for i in range(len(line_h)-1):\n",
        "  descriptions.append(re.sub(\"\\n\",\" \",pytesseract.image_to_string(pixels[line_h[i]:line_h[i+1], line_v[2]:line_v[3]],config='--psm 6')))\n"
      ],
      "metadata": {
        "id": "-pKsoC6jmv4A"
      },
      "execution_count": 24,
      "outputs": []
    },
    {
      "cell_type": "code",
      "source": [
        "#Removing the course number and other gibresh from the course name\n",
        "print(courses)\n",
        "for i in range(len(courses)):\n",
        "  course = courses[i]\n",
        "  new = ''\n",
        "  flag = False\n",
        "  for j in [*course]:\n",
        "    if flag:\n",
        "      new += j\n",
        "    if j == \")\":\n",
        "      flag = True\n",
        "  courses[i] = new\n",
        "\n",
        "print(courses)\n"
      ],
      "metadata": {
        "id": "Nbo62HDr4btW",
        "colab": {
          "base_uri": "https://localhost:8080/"
        },
        "outputId": "919719da-5224-4f8f-b833-a32796140850"
      },
      "execution_count": 25,
      "outputs": [
        {
          "output_type": "stream",
          "name": "stdout",
          "text": [
            "['RELI-3444-1 (86656) Islam in North America \\x0c', 'BIOL-1398-4 [86686] The Microo al Mothersh p_ \\x0c', '/ARTH-3459-1 (86608) Modemism in the Visual Arts \\x0c', 'ART-3450-1 (866023 Photograghy II \\x0c', '‘CSCI-3198-1 (86823) Technical Interview Prep. \\x0c']\n",
            "[' Islam in North America \\x0c', '', ' Modemism in the Visual Arts \\x0c', '', ' Technical Interview Prep. \\x0c']\n"
          ]
        }
      ]
    },
    {
      "cell_type": "code",
      "source": [
        "pattern = re.compile(r'\\b(?:Monday|Tuesday|Wednesday|Thursday|Friday|Saturday|Sunday)\\b')\n",
        "date_P = r'\\d{1,2}/\\d{1,2}/\\d{4}'\n",
        "time_P = r'\\b\\d{1,2}:\\d{2}(?:AM|PM)\\b'\n",
        "r_pattern = r'Room \\b\\d{3}\\b'\n",
        "del_list = []\n",
        "days_mapping = {\n",
        "    \"Monday\": MO,\n",
        "    \"Tuesday\": TU,\n",
        "    \"Wednesday\": WE,\n",
        "    \"Thursday\": TH,\n",
        "    \"Friday\": FR,\n",
        "}\n",
        "dates = []\n",
        "rooms = []\n",
        "times = []\n",
        "days = []\n",
        "# using pattern matching to get info from descriptions\n",
        "for i in range(len(descriptions)):\n",
        "  desc = descriptions[i]\n",
        "  dates.append(re.findall(date_P, desc))\n",
        "  rooms.append(re.findall(r_pattern, desc))\n",
        "  times.append(re.findall(time_P, desc))\n",
        "  index = 0\n",
        "  n = []\n",
        "\n",
        "  #This groups the days that appear next to each other together in a list. Like\n",
        "  # Monday,Wednesday would be together.\n",
        "  matches = pattern.finditer(desc)\n",
        "  for j in matches:\n",
        "    start_position = j.start()\n",
        "    end_position = j.end()\n",
        "    if index+15 < start_position:\n",
        "      days.append(n)\n",
        "      n = [j.group(0)]\n",
        "    else:\n",
        "      n.append(j.group(0))\n",
        "    index = j.end()\n",
        "  days.append(n)\n",
        "\n",
        "\n",
        "#Extracting the buildings from the description by finding the occurences of the\n",
        "#room nums and adding the comma seperated part of desc before it.\n",
        "buildings = []\n",
        "for i in range(len(descriptions)):\n",
        "  n = []\n",
        "  count = -1\n",
        "  desc_list = descriptions[i].split(\", \")\n",
        "  for room in rooms[i]:\n",
        "    for part in range(len(desc_list)):\n",
        "      if len(desc_list[part]) >= len(room):\n",
        "        if desc_list[part][0:len(room)] == room:\n",
        "          if count >= 0:\n",
        "            if desc_list[part-1] != n[count]:\n",
        "              n.append(desc_list[part-1])\n",
        "              count += 1\n",
        "          else:\n",
        "            n.append(desc_list[part-1])\n",
        "            count += 1\n",
        "  buildings.append(n)\n",
        "\n",
        "#This removes the repitions in days\n",
        "for i in range(1,len(days)):\n",
        "  if (days[i] == days[i-1]):\n",
        "    del_list.append(i)\n",
        "\n",
        "neg = 0\n",
        "for i in del_list:\n",
        "  del days[i-neg]\n",
        "  neg += 1\n",
        "count = -1\n",
        "ndays = []\n",
        "print(days)\n",
        "for i in range(len(days)):\n",
        "  if days[i] == []:\n",
        "    ndays.append([])\n",
        "    count += 1\n",
        "    continue\n",
        "  for j in range(len(days[i])):\n",
        "    days[i][j] = days_mapping[days[i][j]]\n",
        "  ndays[count].append(tuple(days[i]))\n",
        "print(ndays)\n",
        "\n",
        "ntimes = []\n",
        "for i in times:\n",
        "  n = []\n",
        "  count = 0\n",
        "  for j in range(0, len(i), 2):\n",
        "    if j+1<len(i):\n",
        "      n.append((time_to_TDelta(i[j]),time_to_TDelta(i[j+1])))\n",
        "  ntimes.append(n)\n",
        "print(ntimes)\n"
      ],
      "metadata": {
        "colab": {
          "base_uri": "https://localhost:8080/"
        },
        "id": "8p1kcsAIDO0P",
        "outputId": "c0832b1a-2c3a-4ff5-ff1c-8a7dac675114"
      },
      "execution_count": null,
      "outputs": [
        {
          "output_type": "stream",
          "name": "stdout",
          "text": [
            "[[], ['Monday', 'Wednesday'], [], ['Monday', 'Wednesday', 'Friday'], [], ['Monday'], [], ['Tuesday', 'Thursday'], [], ['Thursday']]\n",
            "[[(MO, WE)], [(MO, WE, FR)], [(MO,)], [(TU, TH)], [(TH,)]]\n",
            "[[(datetime.time(13, 6), datetime.time(14, 20))], [(datetime.time(10, 30), datetime.time(11, 20))], [(datetime.time(14, 30), datetime.time(17, 10))], [(datetime.time(9, 55), datetime.time(11, 45))], [(datetime.time(12, 45), datetime.time(14, 0))]]\n"
          ]
        }
      ]
    },
    {
      "cell_type": "code",
      "source": [
        "print(buildings)\n",
        "print(rooms)\n",
        "print(ndays[1][0][0])"
      ],
      "metadata": {
        "colab": {
          "base_uri": "https://localhost:8080/"
        },
        "id": "94uDt8wXAvFi",
        "outputId": "c3ffc182-435d-46e9-9d52-69b502bb3761"
      },
      "execution_count": null,
      "outputs": [
        {
          "output_type": "stream",
          "name": "stdout",
          "text": [
            "[['Cir for Scisnces & Innovation'], [], ['Dicke/Smith Building'], [], ['Ctr for Sciences & Innovation']]\n",
            "[['Room 204'], [], ['Room 341'], ['Room 206'], ['Room 483']]\n",
            "MO\n"
          ]
        }
      ]
    },
    {
      "cell_type": "code",
      "source": [
        "cal = Calendar()\n",
        "start_date = datetime(2024, 1, 10)\n",
        "end_date = datetime(2024, 4, 30)\n",
        "for i in range(len(ndays)):\n",
        "  nevent = len(ndays[i])\n",
        "  for j in range(nevent):\n",
        "    rday = ndays[i][j]\n",
        "    timeT = ntimes[i][j]\n",
        "    time_diff = timedelta(hours=timeT[1].hour, minutes=timeT[1].minute) - timedelta(hours=timeT[0].hour, minutes=timeT[0].minute)\n",
        "    rrule_params = {\n",
        "    'freq': WEEKLY,\n",
        "    'byweekday': rday,\n",
        "    'dtstart': datetime.combine(start_date, timeT[0]),\n",
        "    'until': datetime.combine(end_date, timeT[0]),\n",
        "     }\n",
        "    event_schedule = rrule(**rrule_params)\n",
        "    for event_time in event_schedule:\n",
        "      event_end = event_time + time_diff\n",
        "      event = Event()\n",
        "      event.add('summary', courses[i])\n",
        "      event.add('dtstart', event_time)\n",
        "      event.add('dtend', event_end)\n",
        "      cal.add_component(event)\n",
        "\n",
        "with open('recurring_event.ics', 'wb') as f:\n",
        "    f.write(cal.to_ical())\n",
        "\n",
        "print(\"iCalendar file 'recurring_event.ics' created.\")\n"
      ],
      "metadata": {
        "colab": {
          "base_uri": "https://localhost:8080/"
        },
        "id": "NkF2WJSnn6-R",
        "outputId": "9b0ddf4a-4e32-4f3d-bc49-999e83713d5d"
      },
      "execution_count": null,
      "outputs": [
        {
          "output_type": "stream",
          "name": "stdout",
          "text": [
            "iCalendar file 'recurring_event.ics' created.\n"
          ]
        }
      ]
    },
    {
      "cell_type": "code",
      "source": [
        "import cv2\n",
        "import numpy as np\n",
        "from sklearn.cluster import DBSCAN\n",
        "\n",
        "# Load the image\n",
        "image_path = \"screen.png\"\n",
        "image = cv2.imread(image_path, cv2.IMREAD_GRAYSCALE)\n",
        "\n",
        "# Apply Gaussian blur to reduce noise\n",
        "blurred = cv2.GaussianBlur(image, (5, 5), 0)\n",
        "\n",
        "# Perform Canny edge detection\n",
        "edges = cv2.Canny(blurred, 50, 150, apertureSize=3)\n",
        "\n",
        "# Use Hough Line Transform to detect lines\n",
        "lines = cv2.HoughLinesP(edges, 1, np.pi / 180, threshold=100, minLineLength=100, maxLineGap=10)\n",
        "\n",
        "# Separate the lines into horizontal and vertical lines\n",
        "horizontal_lines = []\n",
        "vertical_lines = []\n",
        "\n",
        "if lines is not None:\n",
        "    for line in lines:\n",
        "        for x1, y1, x2, y2 in line:\n",
        "            if abs(y1 - y2) < 10:  # Horizontal line threshold\n",
        "                horizontal_lines.append((x1, y1, x2, y2))\n",
        "            elif abs(x1 - x2) < 10:  # Vertical line threshold\n",
        "                vertical_lines.append((x1, y1, x2, y2))\n",
        "\n",
        "# Convert lines to points for clustering\n",
        "horizontal_points = np.array([(x1, y1, x2, y2) for x1, y1, x2, y2 in horizontal_lines])\n",
        "vertical_points = np.array([(x1, y1, x2, y2) for x1, y1, x2, y2 in vertical_lines])\n",
        "\n",
        "# Perform DBSCAN clustering if points are available\n",
        "clustered_horizontal_lines = []\n",
        "clustered_vertical_lines = []\n",
        "\n",
        "def cluster_lines(points):\n",
        "    if points.shape[0] == 0:\n",
        "        return []\n",
        "    dbscan = DBSCAN(eps=10, min_samples=2).fit(points[:, :2])  # Cluster based on start points\n",
        "    clusters = []\n",
        "    for cluster_id in set(dbscan.labels_):\n",
        "        if cluster_id != -1:  # Ignore noise points\n",
        "            cluster_points = points[dbscan.labels_ == cluster_id]\n",
        "            x1, y1 = np.min(cluster_points[:, :2], axis=0)\n",
        "            x2, y2 = np.max(cluster_points[:, 2:], axis=0)\n",
        "            clusters.append((x1, y1, x2, y2))\n",
        "    return clusters\n",
        "\n",
        "clustered_horizontal_lines = cluster_lines(horizontal_points)\n",
        "clustered_vertical_lines = cluster_lines(vertical_points)\n",
        "\n",
        "# Draw the clustered lines on the image\n",
        "output_image = cv2.cvtColor(image, cv2.COLOR_GRAY2BGR)\n",
        "\n",
        "for x1, y1, x2, y2 in clustered_horizontal_lines:\n",
        "    cv2.line(output_image, (x1, y1), (x2, y2), (0, 255, 0), 2)\n",
        "\n",
        "for x1, y1, x2, y2 in clustered_vertical_lines:\n",
        "    cv2.line(output_image, (x1, y1), (x2, y2), (255, 0, 0), 2)\n",
        "\n",
        "# Save or display the result\n",
        "cv2.imwrite(\"output.png\", output_image)\n",
        "cv2.waitKey(0)\n",
        "cv2.destroyAllWindows()\n",
        "\n"
      ],
      "metadata": {
        "id": "p5iKC4UFNBHR"
      },
      "execution_count": 32,
      "outputs": []
    }
  ]
}